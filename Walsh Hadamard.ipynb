{
 "metadata": {
  "name": "Walsh Hadamard"
 },
 "nbformat": 3,
 "nbformat_minor": 0,
 "worksheets": [
  {
   "cells": [
    {
     "cell_type": "code",
     "collapsed": false,
     "input": [
      "%pylab inline\n",
      "from numba import autojit, jit, double,int_\n",
      "from scipy.ndimage.filters import gaussian_filter\n",
      "import numpy as np\n",
      "from pygco import cut_inpaint"
     ],
     "language": "python",
     "metadata": {},
     "outputs": [
      {
       "output_type": "stream",
       "stream": "stdout",
       "text": [
        "\n",
        "Welcome to pylab, a matplotlib-based Python environment [backend: module://IPython.zmq.pylab.backend_inline].\n",
        "For more information, type 'help(pylab)'.\n"
       ]
      }
     ],
     "prompt_number": 32
    },
    {
     "cell_type": "markdown",
     "metadata": {},
     "source": [
      "#### Walsh Hadamard Transform\n",
      "\n",
      "It looks to be too expensive to do the nearest neighbor search on the full set of patch pixels.  Following the reference, we instead will decompose each path in the Walsh-Hadamard basis.  Following _Kaiming He and Jian Sun_, [Computing Nearest-Neighbor Fields via Propagation-Assisted KD-Trees](http://research.microsoft.com/en-us/um/people/kahe/publications/cvpr12nnf.pdf), I will use the first 16 basis for the Y channel anad the first 4 for each of the CbCr channels."
     ]
    },
    {
     "cell_type": "code",
     "collapsed": false,
     "input": [
      "def wh_patches(patch_size):\n",
      "    ''' Returns 16 x patch_size x patch_size matrix of walsh hadamard transforms '''\n",
      "    basis = np.array([[1,1,1,1],[1,1,-1,-1],[1,-1,-1,1],[1,-1,1,-1]])\n",
      "    scale = patch_size/4\n",
      "    rescaler = ones((scale,scale))\n",
      "    res = zeros((16, patch_size, patch_size))\n",
      "    idx = 0\n",
      "    for m in range(len(basis)):\n",
      "        for n in range(len(basis)):\n",
      "            res[idx,:,:] = kron(outer(basis[m,:],basis[n,:]),rescaler)\n",
      "            idx += 1\n",
      "    return res\n",
      "            \n",
      "    \n",
      "_,ax = subplots(4,4)\n",
      "\n",
      "idx = 0\n",
      "patches = wh_patches(8)\n",
      "for m in range(len(ax)):\n",
      "    for n in range(len(ax)):\n",
      "        tmp = patches[idx,:,:]\n",
      "        tmp[tmp == -1] = 0\n",
      "        ax[m,n].spy(tmp)\n",
      "        ax[m,n].xaxis.set_visible(False)\n",
      "        ax[m,n].yaxis.set_visible(False)\n",
      "        ax[m,n].set_title(str(idx))\n",
      "        idx += 1"
     ],
     "language": "python",
     "metadata": {},
     "outputs": [
      {
       "output_type": "display_data",
       "png": "[encoded data removed]"
      }
     ],
     "prompt_number": 36
    },
    {
     "cell_type": "code",
     "collapsed": false,
     "input": [
      "@autojit\n",
      "def wh_decompose(patch, basis):\n",
      "    res = zeros((len(basis),))\n",
      "    for idx in range(0,len(basis)):\n",
      "        for m in range(0,8):\n",
      "            for n in range(0,8):\n",
      "                res[idx] += patch[m,n] * basis[idx,m,n]\n",
      "    res = res / 64.\n",
      "    return res\n",
      "\n",
      "@autojit                \n",
      "def ycbcr2wh(img):\n",
      "    M = img.shape[0]\n",
      "    N = img.shape[1]\n",
      "    res = zeros((M,N,24))\n",
      "    wh_basis = wh_patches(8)\n",
      "    for m in range(0,M-8):\n",
      "        for n in range(0,N-8):\n",
      "            curr_patch = img[m:m+8,n:n+8]\n",
      "            res[m,n,0:16]  = wh_decompose(curr_patch[:,:,0],wh_basis)\n",
      "            res[m,n,16:20] = wh_decompose(curr_patch[:,:,1],wh_basis[[0,1,4,5],:,:])\n",
      "            res[m,n,20:24] = wh_decompose(curr_patch[:,:,2],wh_basis[[0,1,4,5],:,:])\n",
      "    return res"
     ],
     "language": "python",
     "metadata": {},
     "outputs": [],
     "prompt_number": 37
    },
    {
     "cell_type": "markdown",
     "metadata": {},
     "source": [
      "## Summary\n",
      "\n",
      "Still too slow to build from python.  Will just switch to c++ once dummy version of inpainting works."
     ]
    },
    {
     "cell_type": "code",
     "collapsed": false,
     "input": [],
     "language": "python",
     "metadata": {},
     "outputs": []
    }
   ],
   "metadata": {}
  }
 ]
}